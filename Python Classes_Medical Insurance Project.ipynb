{
 "cells": [
  {
   "cell_type": "code",
   "execution_count": 1,
   "id": "8f2beda2",
   "metadata": {},
   "outputs": [
    {
     "name": "stdout",
     "output_type": "stream",
     "text": [
      "John Doe's estimated insurance costs is 1836.0 dollars.\n",
      "John Doe is now 26 years old.\n",
      "John Doe's estimated insurance costs is 2086.0 dollars.\n",
      "John Doe has 1 child.\n",
      "John Doe's estimated insurance costs is 2511.0 dollars.\n",
      "{'Name': 'John Doe', 'Age': 26, 'Sex': 'Female', 'BMI': 22.2, 'Number of Children': 1, 'Smoker_Status': 'Non-smoker'}\n"
     ]
    }
   ],
   "source": [
    "class Patient:\n",
    "  def __init__(self, name, age, sex, bmi, num_of_children, smoker):\n",
    "    self.name = name\n",
    "    self.age = age\n",
    "    # add more parameters here\n",
    "    self.sex = sex\n",
    "    self.bmi = bmi\n",
    "    self.num_of_children = num_of_children\n",
    "    self.smoker = smoker\n",
    "\n",
    "  def estimated_insurance_cost(self):\n",
    "    estimated_cost = 250*self.age - 128*self.sex + 370*self.bmi + 425*self.num_of_children + 24000*self.smoker - 12500\n",
    "    print(\"{}'s estimated insurance costs is {} dollars.\".format(self.name, estimated_cost))\n",
    "\n",
    "  def update_age(self, new_age):\n",
    "    self.age = new_age\n",
    "    print(\"{} is now {} years old.\".format(self.name, self.age))\n",
    "    self.estimated_insurance_cost()\n",
    "\n",
    "  def update_num_children(self, new_num_children):\n",
    "    self.num_of_children = new_num_children\n",
    "    if self.num_of_children == 1:\n",
    "      print(\"{} has {} child.\".format(self.name, self.num_of_children))\n",
    "    else:\n",
    "      print(\"{} has {} children.\".format(self.name, self.num_of_children))\n",
    "    self.estimated_insurance_cost()\n",
    "\n",
    "  def patient_profile(self):\n",
    "    patient_information = {}\n",
    "    patient_information[\"Name\"] = self.name\n",
    "    patient_information[\"Age\"] = self.age\n",
    "    if self.sex == 0:\n",
    "      patient_information[\"Sex\"] = \"Male\"\n",
    "    else:\n",
    "      patient_information[\"Sex\"] = \"Female\"\n",
    "    patient_information[\"BMI\"] = self.bmi\n",
    "    patient_information[\"Number of Children\"] = self.num_of_children\n",
    "    if self.smoker == 0:\n",
    "      patient_information[\"Smoker_Status\"] = \"Non-smoker\"\n",
    "    else:\n",
    "      patient_information[\"Smoker_Status\"] = \"Smoker\"\n",
    "    \n",
    "    print(patient_information)\n",
    "\n",
    "\n",
    "patient1 = Patient(\"John Doe\", 25, 1, 22.2, 0, 0)\n",
    "patient1.estimated_insurance_cost()\n",
    "patient1.update_age(26)\n",
    "patient1.update_num_children(1)\n",
    "patient1.patient_profile()\n",
    "\n",
    "\n",
    "\n",
    "\n",
    "\n",
    "\n",
    "\n",
    "\n",
    "    "
   ]
  },
  {
   "cell_type": "code",
   "execution_count": null,
   "id": "14ea0426",
   "metadata": {},
   "outputs": [],
   "source": []
  }
 ],
 "metadata": {
  "kernelspec": {
   "display_name": "Python 3",
   "language": "python",
   "name": "python3"
  },
  "language_info": {
   "codemirror_mode": {
    "name": "ipython",
    "version": 3
   },
   "file_extension": ".py",
   "mimetype": "text/x-python",
   "name": "python",
   "nbconvert_exporter": "python",
   "pygments_lexer": "ipython3",
   "version": "3.9.1"
  }
 },
 "nbformat": 4,
 "nbformat_minor": 5
}
