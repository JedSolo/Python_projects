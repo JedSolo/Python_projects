{
 "cells": [
  {
   "cell_type": "code",
   "execution_count": 1,
   "id": "9cdc99df",
   "metadata": {},
   "outputs": [
    {
     "name": "stdout",
     "output_type": "stream",
     "text": [
      "The estimated insurance cost for Maria is 5469.0 dollars\n",
      "\n",
      "The estimated insurance cost for Omar is 28336.0 dollars\n",
      "\n",
      "The estimated insurance cost for Solomon is 2317.0 dollars\n",
      "\n",
      "The difference in insurance cost of Maria and Omar is 22867.0 dollars\n",
      "\n",
      "The difference in insurance cost of Maria and Solomon is 3152.0 dollars\n",
      "\n",
      "The difference in insurance cost of Omar and Solomon is 26019.0 dollars\n",
      "\n"
     ]
    },
    {
     "data": {
      "text/plain": [
       "26019.0"
      ]
     },
     "execution_count": 1,
     "metadata": {},
     "output_type": "execute_result"
    }
   ],
   "source": [
    "# Add your code here\n",
    "# Check your smoking status:\n",
    "def analyze_smoker(smoker_status):\n",
    "  if smoker_status ==1:\n",
    "    print('>> To lower your cost, you should consider quitting smoking.')\n",
    "  else:\n",
    "    print(\">> Smoking is not an issue for you\")\n",
    "\n",
    "# Check your BMI status:\n",
    "def analyze_bmi(bmi_value):\n",
    "  if bmi_value > 30:\n",
    "    print(\">> Your BMI is in the obese range. To lower your cost, you should significantly lower your BMI.\")\n",
    "  elif bmi_value >=25 and bmi_value <=30:\n",
    "    print(\">> Your BMI is in the overweight range. To lower your cost, you should lower your BMI.\")\n",
    "  elif bmi_value >=18.5 and bmi_value <25:\n",
    "    print('>> Your BMI is in a healthy range.')\n",
    "  elif bmi_value < 18.5:\n",
    "    print(\">> Your BMI is in the underweight range. Increasing your BMI will not help lower your cost, but it will help improve your health.\") \n",
    "  \n",
    "  if bmi_value >=18.5 and bmi_value <25:\n",
    "    print()\n",
    "  else:\n",
    "    bmi_value-=25 \n",
    "    print(\">> Lower your BMI by at least\",round(bmi_value,1),\"to bring it to normal weigth range\")\n",
    "\n",
    "# Function to estimate insurance cost:\n",
    "def estimate_insurance_cost(name, age, sex, bmi, num_of_children, smoker):\n",
    "  estimated_cost = 250*age - 128*sex + 370*bmi + 425*num_of_children + 24000*smoker - 12500\n",
    "  print(name + \"'s Estimated Insurance Cost: \" + str(estimated_cost) + \" dollars.\\n\")\n",
    "  analyze_smoker(smoker)\n",
    "  analyze_bmi(bmi)\n",
    "  print() \n",
    "  return estimated_cost\n",
    "\n",
    "# Estimate Keanu's insurance cost\n",
    "keanu_insurance_cost = estimate_insurance_cost(name = 'Keanu', age = 29, sex = 1, bmi = 26.2, num_of_children = 3, smoker = 1)\n",
    "\n",
    "# Estimate my insurance cost\n",
    "my_insurance_cost = estimate_insurance_cost(name = 'Solomon', age = 25, sex = 1, bmi = 23.5, num_of_children = 0, smoker = 0)"
   ]
  },
  {
   "cell_type": "code",
   "execution_count": null,
   "id": "95ed130e",
   "metadata": {},
   "outputs": [],
   "source": []
  }
 ],
 "metadata": {
  "kernelspec": {
   "display_name": "Python 3",
   "language": "python",
   "name": "python3"
  },
  "language_info": {
   "codemirror_mode": {
    "name": "ipython",
    "version": 3
   },
   "file_extension": ".py",
   "mimetype": "text/x-python",
   "name": "python",
   "nbconvert_exporter": "python",
   "pygments_lexer": "ipython3",
   "version": "3.9.1"
  }
 },
 "nbformat": 4,
 "nbformat_minor": 5
}
