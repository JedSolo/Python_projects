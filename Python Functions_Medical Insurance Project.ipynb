{
 "cells": [
  {
   "cell_type": "code",
   "execution_count": 1,
   "id": "9cdc99df",
   "metadata": {},
   "outputs": [
    {
     "name": "stdout",
     "output_type": "stream",
     "text": [
      "The estimated insurance cost for Maria is 5469.0 dollars\n",
      "\n",
      "The estimated insurance cost for Omar is 28336.0 dollars\n",
      "\n",
      "The estimated insurance cost for Solomon is 2317.0 dollars\n",
      "\n",
      "The difference in insurance cost of Maria and Omar is 22867.0 dollars\n",
      "\n",
      "The difference in insurance cost of Maria and Solomon is 3152.0 dollars\n",
      "\n",
      "The difference in insurance cost of Omar and Solomon is 26019.0 dollars\n",
      "\n"
     ]
    },
    {
     "data": {
      "text/plain": [
       "26019.0"
      ]
     },
     "execution_count": 1,
     "metadata": {},
     "output_type": "execute_result"
    }
   ],
   "source": [
    "# Create calculate_insurance_cost() function below: \n",
    "def calculate_insurance_cost(age,sex,bmi,num_of_children,smoker,name):\n",
    "  estimated_cost = 250*age - 128*sex + 370*bmi + 425*num_of_children + 24000*smoker - 12500\n",
    "  print(\"The estimated insurance cost for\",name,\"is\",estimated_cost,\"dollars\")\n",
    "  print()\n",
    "  return estimated_cost\n",
    "\n",
    "def calculate_difference_insurance(first_person,second_person,name1,name2):\n",
    "  diff = abs(first_person - second_person)\n",
    "  print(\"The difference in insurance cost of\",name1,\"and\",name2,\"is\",diff,\"dollars\")\n",
    "  print()\n",
    "  return diff\n",
    "\n",
    "# Estimate Maria's insurance cost\n",
    "maria_insurance_cost = calculate_insurance_cost(28,0,26.2,3,0,name=\"Maria\")\n",
    "\n",
    "# Estimate Omar's insurance cost \n",
    "omar_insurance_cost = calculate_insurance_cost(35,1,22.2,0,1,name=\"Omar\")\n",
    "\n",
    "# Estimate my own insurance cost\n",
    "my_insurance_cost = calculate_insurance_cost(25,1,23.5,0,0,name=\"Solomon\")\n",
    "\n",
    "# Difference between Maria and Omar's cost\n",
    "calculate_difference_insurance(maria_insurance_cost,omar_insurance_cost,\"Maria\",\"Omar\")\n",
    "\n",
    "# Difference between Maria and my cost\n",
    "calculate_difference_insurance(maria_insurance_cost,my_insurance_cost,\"Maria\",\"Solomon\")\n",
    "\n",
    "# Difference between Omar and my cost\n",
    "calculate_difference_insurance(omar_insurance_cost,my_insurance_cost,\"Omar\",\"Solomon\")"
   ]
  },
  {
   "cell_type": "code",
   "execution_count": null,
   "id": "95ed130e",
   "metadata": {},
   "outputs": [],
   "source": []
  }
 ],
 "metadata": {
  "kernelspec": {
   "display_name": "Python 3",
   "language": "python",
   "name": "python3"
  },
  "language_info": {
   "codemirror_mode": {
    "name": "ipython",
    "version": 3
   },
   "file_extension": ".py",
   "mimetype": "text/x-python",
   "name": "python",
   "nbconvert_exporter": "python",
   "pygments_lexer": "ipython3",
   "version": "3.9.1"
  }
 },
 "nbformat": 4,
 "nbformat_minor": 5
}
