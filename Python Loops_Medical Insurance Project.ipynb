{
 "cells": [
  {
   "cell_type": "code",
   "execution_count": 1,
   "id": "9cdc99df",
   "metadata": {},
   "outputs": [
    {
     "name": "stdout",
     "output_type": "stream",
     "text": [
      "Average Insurance Cost: 4400.0 dollars\n",
      "\n",
      "The insurance cost for Judith is 1100.0 dollars.\n",
      "The insurance cost for Judith is below average\n",
      "\n",
      "The insurance cost for Abel is 2200.0 dollars.\n",
      "The insurance cost for Abel is below average\n",
      "\n",
      "The insurance cost for Tyson is 3300.0 dollars.\n",
      "The insurance cost for Tyson is below average\n",
      "\n",
      "The insurance cost for Martha is 4400.0 dollars.\n",
      "The insurance cost for Martha is equal to the average\n",
      "\n",
      "The insurance cost for Beverley is 5500.0 dollars.\n",
      "The insurance cost for Beverley is above average\n",
      "\n",
      "The insurance cost for David is 6600.0 dollars.\n",
      "The insurance cost for David is above average\n",
      "\n",
      "The insurance cost for Anabel is 7700.0 dollars.\n",
      "The insurance cost for Anabel is above average\n",
      "\n",
      "[1100, 2200, 3300, 4400, 5500, 6600, 7700]\n"
     ]
    }
   ],
   "source": [
    "names = [\"Judith\", \"Abel\", \"Tyson\", \"Martha\", \"Beverley\", \"David\", \"Anabel\"]\n",
    "estimated_insurance_costs = [1000.0, 2000.0, 3000.0, 4000.0, 5000.0, 6000.0, 7000.0]\n",
    "actual_insurance_costs = [1100.0, 2200.0, 3300.0, 4400.0, 5500.0, 6600.0, 7700.0]\n",
    "\n",
    "# Add your code here\n",
    "length = len(actual_insurance_costs)\n",
    "index = 0\n",
    "total_cost = 0\n",
    "\n",
    "while index < length:\n",
    "  total_cost+=actual_insurance_costs[index]\n",
    "  index+=1\n",
    "\n",
    "# Calculating average insurance cost:\n",
    "average_cost = total_cost/len(actual_insurance_costs)\n",
    "print(\"Average Insurance Cost:\",average_cost,\"dollars\\n\")\n",
    "\n",
    "# Determing whether each individual's insurance cost in above or below average: \n",
    "for i in range(len(names)):\n",
    "  name = names[i]\n",
    "  insurance_cost = actual_insurance_costs[i]\n",
    "  print(\"The insurance cost for\",name,\"is\",insurance_cost,\"dollars.\")\n",
    "  if insurance_cost > average_cost:\n",
    "    print(\"The insurance cost for\",name,\"is above average\\n\")\n",
    "  elif insurance_cost < average_cost:\n",
    "    print(\"The insurance cost for\",name,\"is below average\\n\")\n",
    "  else:\n",
    "    print(\"The insurance cost for\",name,\"is equal to the average\\n\")\n",
    "\n",
    "# Updated Estimated Cost\n",
    "updated_estimated_cost = [round(cost*(11/10)) for cost in estimated_insurance_costs]\n",
    "print(updated_estimated_cost)"
   ]
  },
  {
   "cell_type": "code",
   "execution_count": null,
   "id": "73ec9ecb",
   "metadata": {},
   "outputs": [],
   "source": []
  }
 ],
 "metadata": {
  "kernelspec": {
   "display_name": "Python 3",
   "language": "python",
   "name": "python3"
  },
  "language_info": {
   "codemirror_mode": {
    "name": "ipython",
    "version": 3
   },
   "file_extension": ".py",
   "mimetype": "text/x-python",
   "name": "python",
   "nbconvert_exporter": "python",
   "pygments_lexer": "ipython3",
   "version": "3.9.1"
  }
 },
 "nbformat": 4,
 "nbformat_minor": 5
}
