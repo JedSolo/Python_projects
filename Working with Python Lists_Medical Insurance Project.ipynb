{
 "cells": [
  {
   "cell_type": "code",
   "execution_count": 1,
   "id": "9cdc99df",
   "metadata": {},
   "outputs": [
    {
     "name": "stdout",
     "output_type": "stream",
     "text": [
      "[(13262.0, 'Mohamed'), (4816.0, 'Sara'), (6839.0, 'Xia'), (5054.0, 'Paul'), (14724.0, 'Valentina'), (5360.0, 'Jide'), (7640.0, 'Aaron'), (6072.0, 'Emily'), (2750.0, 'Nikita'), (12064.0, 'Paul'), (8320.0, 'Priscilla')] \n",
      "\n",
      "There are 11 medical records\n",
      "\n",
      "Here is the first medical record: (13262.0, 'Mohamed') \n",
      "\n",
      "Here are the medical records sorted by insurance cost: [(2750.0, 'Nikita'), (4816.0, 'Sara'), (5054.0, 'Paul'), (5360.0, 'Jide'), (6072.0, 'Emily'), (6839.0, 'Xia'), (7640.0, 'Aaron'), (8320.0, 'Priscilla'), (12064.0, 'Paul'), (13262.0, 'Mohamed'), (14724.0, 'Valentina')] \n",
      "\n",
      "Here are the three cheapest insurance costs in our medical records: [(2750.0, 'Nikita'), (4816.0, 'Sara'), (5054.0, 'Paul')] \n",
      "\n",
      "Here are the three most expensive insurance costs in our medical records: [(12064.0, 'Paul'), (13262.0, 'Mohamed'), (14724.0, 'Valentina')] \n",
      "\n",
      "There are 2 individuals with the name Paul in our medical records.\n",
      "\n",
      "Here are the medical records sorted by names: [('Aaron', 7640.0), ('Emily', 6072.0), ('Jide', 5360.0), ('Mohamed', 13262.0), ('Nikita', 2750.0), ('Paul', 5054.0), ('Paul', 12064.0), ('Priscilla', 8320.0), ('Sara', 4816.0), ('Valentina', 14724.0), ('Xia', 6839.0)] \n",
      "\n",
      "Here are the middle five records: [('Mohamed', 13262.0), ('Nikita', 2750.0), ('Paul', 5054.0), ('Paul', 12064.0), ('Priscilla', 8320.0)]\n"
     ]
    }
   ],
   "source": [
    "names = [\"Mohamed\", \"Sara\", \"Xia\", \"Paul\", \"Valentina\", \"Jide\", \"Aaron\", \"Emily\", \"Nikita\", \"Paul\"]\n",
    "insurance_costs = [13262.0, 4816.0, 6839.0, 5054.0, 14724.0, 5360.0, 7640.0, 6072.0, 2750.0, 12064.0]\n",
    "\n",
    "# Add your code here\n",
    "names.append(\"Priscilla\")\n",
    "insurance_costs.append(8320.0)\n",
    "\n",
    "# Matching each person with their insurance cost  \n",
    "medical_records = list(zip(insurance_costs, names))\n",
    "print(medical_records,\"\\n\")\n",
    "\n",
    "# Checking the number of medical records:\n",
    "num_medical_records = len(medical_records)\n",
    "print(\"There are\",num_medical_records,\"medical records\\n\")\n",
    "\n",
    "# Accessing first Medical record:\n",
    "first_medical_record = medical_records[0]\n",
    "print(\"Here is the first medical record:\",first_medical_record,\"\\n\")\n",
    "\n",
    "# Sorting the medical records with the lowest insurance cost:\n",
    "medical_records.sort()\n",
    "print(\"Here are the medical records sorted by insurance cost:\",medical_records,\"\\n\")\n",
    "\n",
    "# Accessing the three cheapest insurance cost:\n",
    "cheapest_three = medical_records[:3]\n",
    "print(\"Here are the three cheapest insurance costs in our medical records:\",cheapest_three,\"\\n\")\n",
    "\n",
    "# Accessing the three most expensive insurance cost:\n",
    "priciest_three = medical_records[-3:]\n",
    "print(\"Here are the three most expensive insurance costs in our medical records:\",priciest_three,\"\\n\")\n",
    "\n",
    "# Checking reoccurrences\n",
    "occurrences_paul = names.count(\"Paul\")\n",
    "print(\"There are\",occurrences_paul,\"individuals with the name Paul in our medical records.\\n\")\n",
    "\n",
    "# Sorting the medical records by names in alphabetical order:\n",
    "medical_records = list(zip(names, insurance_costs))\n",
    "medical_records.sort()\n",
    "print(\"Here are the medical records sorted by names:\",medical_records,\"\\n\")\n",
    "\n",
    "# Acessing the middle five records:\n",
    "middle_five_records = medical_records[3:8]\n",
    "print(\"Here are the middle five records:\",middle_five_records)"
   ]
  },
  {
   "cell_type": "code",
   "execution_count": null,
   "id": "13677d94",
   "metadata": {},
   "outputs": [],
   "source": []
  }
 ],
 "metadata": {
  "kernelspec": {
   "display_name": "Python 3",
   "language": "python",
   "name": "python3"
  },
  "language_info": {
   "codemirror_mode": {
    "name": "ipython",
    "version": 3
   },
   "file_extension": ".py",
   "mimetype": "text/x-python",
   "name": "python",
   "nbconvert_exporter": "python",
   "pygments_lexer": "ipython3",
   "version": "3.9.1"
  }
 },
 "nbformat": 4,
 "nbformat_minor": 5
}
